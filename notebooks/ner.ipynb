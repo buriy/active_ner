{
 "cells": [
  {
   "cell_type": "code",
   "execution_count": 1,
   "metadata": {},
   "outputs": [],
   "source": [
    "import spacy"
   ]
  },
  {
   "cell_type": "code",
   "execution_count": 44,
   "metadata": {},
   "outputs": [],
   "source": [
    "nlp = spacy.blank('ru')"
   ]
  },
  {
   "cell_type": "code",
   "execution_count": 45,
   "metadata": {},
   "outputs": [],
   "source": [
    "ner = nlp.create_pipe('ner')"
   ]
  },
  {
   "cell_type": "code",
   "execution_count": 46,
   "metadata": {},
   "outputs": [],
   "source": [
    "nlp.add_pipe(ner, last=True)"
   ]
  },
  {
   "cell_type": "code",
   "execution_count": 47,
   "metadata": {},
   "outputs": [],
   "source": [
    "ner.add_label('codex')\n",
    "ner.add_label('person')\n",
    "ner.add_label('term')"
   ]
  },
  {
   "cell_type": "code",
   "execution_count": 48,
   "metadata": {},
   "outputs": [],
   "source": [
    "optimizer = nlp.begin_training()"
   ]
  },
  {
   "cell_type": "code",
   "execution_count": 49,
   "metadata": {},
   "outputs": [],
   "source": [
    "from spacy.util import minibatch, compounding\n",
    "from spacy.gold import GoldParse"
   ]
  },
  {
   "cell_type": "code",
   "execution_count": 50,
   "metadata": {},
   "outputs": [
    {
     "data": {
      "text/plain": [
       "\"[{'id': 3, 'text': 'Маквивальевич здравствуйте удобно разговаривать по вопросу по поводу регистрации\""
      ]
     },
     "execution_count": 50,
     "metadata": {},
     "output_type": "execute_result"
    }
   ],
   "source": [
    "import json\n",
    "from pathlib import Path\n",
    "examples = json.loads(Path('../data/example.json').read_text())\n",
    "str(examples)[:100]"
   ]
  },
  {
   "cell_type": "code",
   "execution_count": 69,
   "metadata": {},
   "outputs": [
    {
     "name": "stdout",
     "output_type": "stream",
     "text": [
      "[[[69, 80, 'term'], [104, 106, 'term'], [131, 140, 'term'], [147, 168, 'term'], [196, 218, 'term'], [433, 445, 'term'], [576, 670, 'codex'], [797, 804, 'term'], [858, 875, 'term'], [981, 993, 'term'], [1001, 1008, 'term'], [1058, 1065, 'term'], [1093, 1102, 'term'], [1170, 1173, 'term'], [1211, 1227, 'term'], [1455, 1467, 'term'], [1504, 1511, 'term'], [1513, 1521, 'term'], [1528, 1538, 'term'], [1655, 1672, 'term'], [0, 13, 'person'], [236, 248, 'person'], [331, 340, 'term'], [398, 407, 'term'], [565, 571, 'codex'], [515, 530, 'codex'], [885, 897, 'person'], [724, 736, 'person'], [754, 766, 'person'], [1684, 1716, 'person'], [1720, 1748, 'person'], [1749, 1795, 'person'], [1807, 1817, 'person'], [1925, 1938, 'person'], [2172, 2176, 'person'], [2197, 2206, 'term'], [2232, 2241, 'term'], [2326, 2335, 'term'], [2364, 2376, 'term'], [2444, 2454, 'person'], [2482, 2492, 'person'], [2547, 2562, 'codex'], [2583, 2591, 'term'], [2609, 2631, 'term']], [[0, 15, 'person'], [146, 154, 'person'], [202, 214, 'term'], [180, 186, 'term'], [273, 301, 'term'], [332, 336, 'person'], [363, 386, 'person'], [389, 410, 'person'], [413, 423, 'person'], [442, 450, 'person'], [489, 531, 'person'], [540, 565, 'term'], [577, 580, 'term'], [586, 597, 'term'], [598, 603, 'term'], [604, 621, 'term'], [647, 660, 'term'], [661, 668, 'person'], [675, 690, 'term'], [711, 737, 'person'], [761, 775, 'term'], [808, 823, 'term'], [835, 842, 'person']]]\n",
      "[[[69, 80, 'term'], [104, 106, 'term'], [131, 140, 'term'], [147, 168, 'term'], [196, 218, 'term'], [433, 445, 'term'], [576, 670, 'codex'], [797, 804, 'term'], [858, 875, 'term'], [981, 993, 'term'], [1001, 1008, 'term'], [1058, 1065, 'term'], [1093, 1102, 'term'], [1170, 1173, 'term'], [1211, 1227, 'term'], [1455, 1467, 'term'], [1504, 1511, 'term'], [1513, 1521, 'term'], [1528, 1538, 'term'], [1655, 1672, 'term'], [0, 13, 'person'], [236, 248, 'person'], [331, 340, 'term'], [398, 407, 'term'], [565, 571, 'codex'], [515, 530, 'codex'], [885, 897, 'person'], [724, 736, 'person'], [754, 766, 'person'], [1684, 1716, 'person'], [1720, 1748, 'person'], [1749, 1795, 'person'], [1807, 1817, 'person'], [1925, 1938, 'person'], [2172, 2176, 'person'], [2197, 2206, 'term'], [2232, 2241, 'term'], [2326, 2335, 'term'], [2364, 2376, 'term'], [2444, 2454, 'person'], [2482, 2492, 'person'], [2547, 2562, 'codex'], [2583, 2591, 'term'], [2609, 2631, 'term']], [[0, 15, 'person'], [146, 154, 'person'], [202, 214, 'term'], [180, 186, 'term'], [273, 301, 'term'], [332, 336, 'person'], [363, 386, 'person'], [389, 410, 'person'], [413, 423, 'person'], [442, 450, 'person'], [489, 531, 'person'], [540, 565, 'term'], [577, 580, 'term'], [586, 597, 'term'], [598, 603, 'term'], [604, 621, 'term'], [647, 660, 'term'], [661, 668, 'person'], [675, 690, 'term'], [711, 737, 'person'], [761, 775, 'term'], [808, 823, 'term'], [835, 842, 'person']]]\n",
      "[[[69, 80, 'term'], [104, 106, 'term'], [131, 140, 'term'], [147, 168, 'term'], [196, 218, 'term'], [433, 445, 'term'], [576, 670, 'codex'], [797, 804, 'term'], [858, 875, 'term'], [981, 993, 'term'], [1001, 1008, 'term'], [1058, 1065, 'term'], [1093, 1102, 'term'], [1170, 1173, 'term'], [1211, 1227, 'term'], [1455, 1467, 'term'], [1504, 1511, 'term'], [1513, 1521, 'term'], [1528, 1538, 'term'], [1655, 1672, 'term'], [0, 13, 'person'], [236, 248, 'person'], [331, 340, 'term'], [398, 407, 'term'], [565, 571, 'codex'], [515, 530, 'codex'], [885, 897, 'person'], [724, 736, 'person'], [754, 766, 'person'], [1684, 1716, 'person'], [1720, 1748, 'person'], [1749, 1795, 'person'], [1807, 1817, 'person'], [1925, 1938, 'person'], [2172, 2176, 'person'], [2197, 2206, 'term'], [2232, 2241, 'term'], [2326, 2335, 'term'], [2364, 2376, 'term'], [2444, 2454, 'person'], [2482, 2492, 'person'], [2547, 2562, 'codex'], [2583, 2591, 'term'], [2609, 2631, 'term']], [[0, 15, 'person'], [146, 154, 'person'], [202, 214, 'term'], [180, 186, 'term'], [273, 301, 'term'], [332, 336, 'person'], [363, 386, 'person'], [389, 410, 'person'], [413, 423, 'person'], [442, 450, 'person'], [489, 531, 'person'], [540, 565, 'term'], [577, 580, 'term'], [586, 597, 'term'], [598, 603, 'term'], [604, 621, 'term'], [647, 660, 'term'], [661, 668, 'person'], [675, 690, 'term'], [711, 737, 'person'], [761, 775, 'term'], [808, 823, 'term'], [835, 842, 'person']]]\n",
      "[[[69, 80, 'term'], [104, 106, 'term'], [131, 140, 'term'], [147, 168, 'term'], [196, 218, 'term'], [433, 445, 'term'], [576, 670, 'codex'], [797, 804, 'term'], [858, 875, 'term'], [981, 993, 'term'], [1001, 1008, 'term'], [1058, 1065, 'term'], [1093, 1102, 'term'], [1170, 1173, 'term'], [1211, 1227, 'term'], [1455, 1467, 'term'], [1504, 1511, 'term'], [1513, 1521, 'term'], [1528, 1538, 'term'], [1655, 1672, 'term'], [0, 13, 'person'], [236, 248, 'person'], [331, 340, 'term'], [398, 407, 'term'], [565, 571, 'codex'], [515, 530, 'codex'], [885, 897, 'person'], [724, 736, 'person'], [754, 766, 'person'], [1684, 1716, 'person'], [1720, 1748, 'person'], [1749, 1795, 'person'], [1807, 1817, 'person'], [1925, 1938, 'person'], [2172, 2176, 'person'], [2197, 2206, 'term'], [2232, 2241, 'term'], [2326, 2335, 'term'], [2364, 2376, 'term'], [2444, 2454, 'person'], [2482, 2492, 'person'], [2547, 2562, 'codex'], [2583, 2591, 'term'], [2609, 2631, 'term']], [[0, 15, 'person'], [146, 154, 'person'], [202, 214, 'term'], [180, 186, 'term'], [273, 301, 'term'], [332, 336, 'person'], [363, 386, 'person'], [389, 410, 'person'], [413, 423, 'person'], [442, 450, 'person'], [489, 531, 'person'], [540, 565, 'term'], [577, 580, 'term'], [586, 597, 'term'], [598, 603, 'term'], [604, 621, 'term'], [647, 660, 'term'], [661, 668, 'person'], [675, 690, 'term'], [711, 737, 'person'], [761, 775, 'term'], [808, 823, 'term'], [835, 842, 'person']]]\n"
     ]
    }
   ],
   "source": [
    "for e in range(4):\n",
    "    for batch in minibatch([e for e in examples if e['labels']], size=4):\n",
    "        print([t['labels'] for t in batch])\n",
    "        docs = [nlp(t['text']) for t in batch]\n",
    "        goldparses = [GoldParse(d,labels=t['labels']) for d, t in zip(docs, batch)]\n",
    "        losses = {}\n",
    "        nlp.update(docs, goldparses, drop=0.5, losses=losses, sgd=optimizer)"
   ]
  },
  {
   "cell_type": "code",
   "execution_count": 70,
   "metadata": {},
   "outputs": [
    {
     "data": {
      "text/plain": [
       "(Валентин Петрович здравствуйте! Маквивальевич здравствуйте, ())"
      ]
     },
     "execution_count": 70,
     "metadata": {},
     "output_type": "execute_result"
    }
   ],
   "source": [
    "doc=nlp('Валентин Петрович здравствуйте! Маквивальевич здравствуйте')\n",
    "doc, doc.ents"
   ]
  },
  {
   "cell_type": "code",
   "execution_count": 71,
   "metadata": {},
   "outputs": [
    {
     "data": {
      "text/plain": [
       "(58, 46, здравствуйте, 58)"
      ]
     },
     "execution_count": 71,
     "metadata": {},
     "output_type": "execute_result"
    }
   ],
   "source": [
    "len(doc.text), doc[-1].idx, doc[-1], doc[-1].idx+len(doc[-1].text)"
   ]
  },
  {
   "cell_type": "code",
   "execution_count": 80,
   "metadata": {},
   "outputs": [],
   "source": [
    "from collections import Counter\n",
    "ner = nlp.get_pipe('ner')\n",
    "docs = [nlp.make_doc(t['text']) for t in examples]\n",
    "beams = ner.beam_parse(docs, beam_width=16)\n",
    "r = []\n",
    "for doc, beam in zip(docs, beams):\n",
    "    entities = ner.moves.get_beam_annot(beam)\n",
    "    #print(entities)\n",
    "    #toks = {t.idx: t for t in doc}\n",
    "    #lens = {t.idx: doc[t.i+1].idx - t.idx for t in doc[:-1]}\n",
    "    #lens[doc[-1].idx] = len(doc.text) - doc[-1].idx\n",
    "    words = Counter()\n",
    "    for e,v in entities.items():\n",
    "        estart, eend, etype = e\n",
    "        if eend == estart + 1:\n",
    "            #print(estart, eend, etype)\n",
    "            continue\n",
    "        #print(estart, eend, len(doc))\n",
    "        etype = doc.vocab.strings[etype]\n",
    "        \n",
    "        #while estart>0 and estart not in toks:\n",
    "        #    estart -= 1\n",
    "        #if estart not in toks: \n",
    "        #    continue\n",
    "        words[estart, eend, etype] = v # / lens[estart]\n",
    "\n",
    "    words_items = sorted(words.items(), key=lambda x: (-x[1], x[0]))\n",
    "    for (estart, eend, etype), escore in words_items:\n",
    "        r.append((doc[estart:eend].text, etype, escore))\n",
    "        #print(e[0], e[1], nlp.vocab.strings[e[2]], v)\n",
    "    #break"
   ]
  },
  {
   "cell_type": "code",
   "execution_count": 81,
   "metadata": {},
   "outputs": [
    {
     "data": {
      "text/html": [
       "<div>\n",
       "<style scoped>\n",
       "    .dataframe tbody tr th:only-of-type {\n",
       "        vertical-align: middle;\n",
       "    }\n",
       "\n",
       "    .dataframe tbody tr th {\n",
       "        vertical-align: top;\n",
       "    }\n",
       "\n",
       "    .dataframe thead th {\n",
       "        text-align: right;\n",
       "    }\n",
       "</style>\n",
       "<table border=\"1\" class=\"dataframe\">\n",
       "  <thead>\n",
       "    <tr style=\"text-align: right;\">\n",
       "      <th></th>\n",
       "      <th>text</th>\n",
       "      <th>type</th>\n",
       "      <th>score</th>\n",
       "    </tr>\n",
       "  </thead>\n",
       "  <tbody>\n",
       "    <tr>\n",
       "      <th>1</th>\n",
       "      <td>на наседания</td>\n",
       "      <td>person</td>\n",
       "      <td>0.0625</td>\n",
       "    </tr>\n",
       "    <tr>\n",
       "      <th>2</th>\n",
       "      <td>на наседания</td>\n",
       "      <td>term</td>\n",
       "      <td>0.0625</td>\n",
       "    </tr>\n",
       "    <tr>\n",
       "      <th>4</th>\n",
       "      <td>всего доброгостране</td>\n",
       "      <td>person</td>\n",
       "      <td>0.0625</td>\n",
       "    </tr>\n",
       "    <tr>\n",
       "      <th>5</th>\n",
       "      <td>всего доброгостране</td>\n",
       "      <td>term</td>\n",
       "      <td>0.0625</td>\n",
       "    </tr>\n",
       "    <tr>\n",
       "      <th>7</th>\n",
       "      <td>на свидания</td>\n",
       "      <td>person</td>\n",
       "      <td>0.0625</td>\n",
       "    </tr>\n",
       "    <tr>\n",
       "      <th>8</th>\n",
       "      <td>на свидания</td>\n",
       "      <td>term</td>\n",
       "      <td>0.0625</td>\n",
       "    </tr>\n",
       "    <tr>\n",
       "      <th>10</th>\n",
       "      <td>перезвоним лу</td>\n",
       "      <td>person</td>\n",
       "      <td>0.0625</td>\n",
       "    </tr>\n",
       "    <tr>\n",
       "      <th>11</th>\n",
       "      <td>перезвоним лу</td>\n",
       "      <td>term</td>\n",
       "      <td>0.0625</td>\n",
       "    </tr>\n",
       "    <tr>\n",
       "      <th>13</th>\n",
       "      <td>поняла павсемчитание</td>\n",
       "      <td>person</td>\n",
       "      <td>0.0625</td>\n",
       "    </tr>\n",
       "    <tr>\n",
       "      <th>14</th>\n",
       "      <td>поняла павсемчитание</td>\n",
       "      <td>term</td>\n",
       "      <td>0.0625</td>\n",
       "    </tr>\n",
       "    <tr>\n",
       "      <th>16</th>\n",
       "      <td>время доседания</td>\n",
       "      <td>person</td>\n",
       "      <td>0.0625</td>\n",
       "    </tr>\n",
       "    <tr>\n",
       "      <th>17</th>\n",
       "      <td>время доседания</td>\n",
       "      <td>term</td>\n",
       "      <td>0.0625</td>\n",
       "    </tr>\n",
       "    <tr>\n",
       "      <th>19</th>\n",
       "      <td>деябрата помощьдоброгодония</td>\n",
       "      <td>person</td>\n",
       "      <td>0.0625</td>\n",
       "    </tr>\n",
       "    <tr>\n",
       "      <th>20</th>\n",
       "      <td>деябрата помощьдоброгодония</td>\n",
       "      <td>term</td>\n",
       "      <td>0.0625</td>\n",
       "    </tr>\n",
       "    <tr>\n",
       "      <th>22</th>\n",
       "      <td>такчем расседаююдайная</td>\n",
       "      <td>person</td>\n",
       "      <td>0.0625</td>\n",
       "    </tr>\n",
       "    <tr>\n",
       "      <th>23</th>\n",
       "      <td>такчем расседаююдайная</td>\n",
       "      <td>term</td>\n",
       "      <td>0.0625</td>\n",
       "    </tr>\n",
       "    <tr>\n",
       "      <th>25</th>\n",
       "      <td>на здания</td>\n",
       "      <td>person</td>\n",
       "      <td>0.0625</td>\n",
       "    </tr>\n",
       "    <tr>\n",
       "      <th>26</th>\n",
       "      <td>на здания</td>\n",
       "      <td>term</td>\n",
       "      <td>0.0625</td>\n",
       "    </tr>\n",
       "    <tr>\n",
       "      <th>28</th>\n",
       "      <td>большом по</td>\n",
       "      <td>person</td>\n",
       "      <td>0.0625</td>\n",
       "    </tr>\n",
       "    <tr>\n",
       "      <th>29</th>\n",
       "      <td>большом по</td>\n",
       "      <td>term</td>\n",
       "      <td>0.0625</td>\n",
       "    </tr>\n",
       "    <tr>\n",
       "      <th>31</th>\n",
       "      <td>звониться шеногочто</td>\n",
       "      <td>person</td>\n",
       "      <td>0.0625</td>\n",
       "    </tr>\n",
       "    <tr>\n",
       "      <th>32</th>\n",
       "      <td>звониться шеногочто</td>\n",
       "      <td>term</td>\n",
       "      <td>0.0625</td>\n",
       "    </tr>\n",
       "    <tr>\n",
       "      <th>34</th>\n",
       "      <td>доброго свидания</td>\n",
       "      <td>person</td>\n",
       "      <td>0.0625</td>\n",
       "    </tr>\n",
       "    <tr>\n",
       "      <th>35</th>\n",
       "      <td>доброго свидания</td>\n",
       "      <td>term</td>\n",
       "      <td>0.0625</td>\n",
       "    </tr>\n",
       "    <tr>\n",
       "      <th>37</th>\n",
       "      <td>обычнону исты</td>\n",
       "      <td>person</td>\n",
       "      <td>0.0625</td>\n",
       "    </tr>\n",
       "    <tr>\n",
       "      <th>38</th>\n",
       "      <td>обычнону исты</td>\n",
       "      <td>term</td>\n",
       "      <td>0.0625</td>\n",
       "    </tr>\n",
       "    <tr>\n",
       "      <th>40</th>\n",
       "      <td>у го</td>\n",
       "      <td>person</td>\n",
       "      <td>0.0625</td>\n",
       "    </tr>\n",
       "    <tr>\n",
       "      <th>41</th>\n",
       "      <td>у го</td>\n",
       "      <td>term</td>\n",
       "      <td>0.0625</td>\n",
       "    </tr>\n",
       "  </tbody>\n",
       "</table>\n",
       "</div>"
      ],
      "text/plain": [
       "                           text    type   score\n",
       "1                  на наседания  person  0.0625\n",
       "2                  на наседания    term  0.0625\n",
       "4           всего доброгостране  person  0.0625\n",
       "5           всего доброгостране    term  0.0625\n",
       "7                   на свидания  person  0.0625\n",
       "8                   на свидания    term  0.0625\n",
       "10                перезвоним лу  person  0.0625\n",
       "11                перезвоним лу    term  0.0625\n",
       "13         поняла павсемчитание  person  0.0625\n",
       "14         поняла павсемчитание    term  0.0625\n",
       "16              время доседания  person  0.0625\n",
       "17              время доседания    term  0.0625\n",
       "19  деябрата помощьдоброгодония  person  0.0625\n",
       "20  деябрата помощьдоброгодония    term  0.0625\n",
       "22       такчем расседаююдайная  person  0.0625\n",
       "23       такчем расседаююдайная    term  0.0625\n",
       "25                    на здания  person  0.0625\n",
       "26                    на здания    term  0.0625\n",
       "28                   большом по  person  0.0625\n",
       "29                   большом по    term  0.0625\n",
       "31          звониться шеногочто  person  0.0625\n",
       "32          звониться шеногочто    term  0.0625\n",
       "34             доброго свидания  person  0.0625\n",
       "35             доброго свидания    term  0.0625\n",
       "37                обычнону исты  person  0.0625\n",
       "38                обычнону исты    term  0.0625\n",
       "40                         у го  person  0.0625\n",
       "41                         у го    term  0.0625"
      ]
     },
     "execution_count": 81,
     "metadata": {},
     "output_type": "execute_result"
    }
   ],
   "source": [
    "import pandas\n",
    "df=pandas.DataFrame(r, columns=['text', 'type', 'score'])\n",
    "df[df.type != 'codex']"
   ]
  },
  {
   "cell_type": "code",
   "execution_count": null,
   "metadata": {},
   "outputs": [],
   "source": []
  }
 ],
 "metadata": {
  "file_extension": ".py",
  "kernelspec": {
   "name": "python3",
   "language": "python",
   "display_name": "Python 3"
  },
  "language_info": {
   "codemirror_mode": {
    "name": "ipython",
    "version": 3
   },
   "file_extension": ".py",
   "mimetype": "text/x-python",
   "name": "python",
   "nbconvert_exporter": "python",
   "pygments_lexer": "ipython3",
   "version": "3.6.9"
  },
  "mimetype": "text/x-python",
  "name": "python",
  "npconvert_exporter": "python",
  "pygments_lexer": "ipython3",
  "version": 3
 },
 "nbformat": 4,
 "nbformat_minor": 2
}