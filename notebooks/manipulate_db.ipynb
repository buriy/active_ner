{
 "cells": [
  {
   "cell_type": "code",
   "execution_count": 19,
   "metadata": {
    "pycharm": {
     "is_executing": false
    }
   },
   "outputs": [],
   "source": [
    "import os\n",
    "\n",
    "import django\n",
    "from django.contrib.auth import get_user_model\n",
    "os.environ.setdefault(\"DJANGO_SETTINGS_MODULE\", \"app.settings\")\n",
    "django.setup()"
   ]
  },
  {
   "cell_type": "code",
   "execution_count": 20,
   "metadata": {
    "pycharm": {
     "is_executing": false
    }
   },
   "outputs": [],
   "source": [
    "from api.models import Project, Document, SequenceAnnotation\n",
    "User = get_user_model()"
   ]
  },
  {
   "cell_type": "code",
   "execution_count": 21,
   "metadata": {
    "pycharm": {
     "is_executing": false
    }
   },
   "outputs": [],
   "source": [
    "project = Project.objects.get(id=2)\n",
    "admin = User.objects.get(username='buriy')\n",
    "labels = project.labels.all()\n",
    "docs = project.documents.all()"
   ]
  },
  {
   "cell_type": "code",
   "execution_count": 22,
   "metadata": {
    "pycharm": {
     "is_executing": false,
     "name": "#%%\n"
    }
   },
   "outputs": [
    {
     "name": "stdout",
     "output_type": "stream",
     "text": [
      "5\n",
      "{} Орёл / Есть фото в интернете, которые находятся в \n",
      "{} ФЗ № 209 , ст 18 п 3 ,хочет получить пояснения по \n",
      "{} В начале недели, оставшись одна в закрытой комнате\n",
      "{} после смерти деда осталось  гладкоствольное огнест\n",
      "{'uid': 5} Провоз охотничьего оружия в самолете. Из Сургута в\n"
     ]
    }
   ],
   "source": [
    "print(len(docs))\n",
    "for d in docs:\n",
    "    print(d.meta, d)"
   ]
  },
  {
   "cell_type": "code",
   "execution_count": 23,
   "metadata": {
    "pycharm": {
     "name": "#%%\n"
    }
   },
   "outputs": [
    {
     "data": {
      "text/plain": [
       "\"{'uid': 5}\""
      ]
     },
     "execution_count": 23,
     "metadata": {},
     "output_type": "execute_result"
    }
   ],
   "source": [
    "d.meta"
   ]
  },
  {
   "cell_type": "code",
   "execution_count": 24,
   "metadata": {},
   "outputs": [
    {
     "data": {
      "text/plain": [
       "<Document: Провоз охотничьего оружия в самолете. Из Сургута в>"
      ]
     },
     "execution_count": 24,
     "metadata": {},
     "output_type": "execute_result"
    }
   ],
   "source": [
    "d"
   ]
  },
  {
   "cell_type": "code",
   "execution_count": 25,
   "metadata": {},
   "outputs": [
    {
     "ename": "AttributeError",
     "evalue": "'Document' object has no attribute 'is_approved'",
     "output_type": "error",
     "traceback": [
      "\u001b[0;31m---------------------------------------------------------------------------\u001b[0m",
      "\u001b[0;31mAttributeError\u001b[0m                            Traceback (most recent call last)",
      "\u001b[0;32m<ipython-input-25-69abb2f302cb>\u001b[0m in \u001b[0;36m<module>\u001b[0;34m\u001b[0m\n\u001b[0;32m----> 1\u001b[0;31m \u001b[0md\u001b[0m\u001b[0;34m.\u001b[0m\u001b[0mis_approved\u001b[0m\u001b[0;34m\u001b[0m\u001b[0;34m\u001b[0m\u001b[0m\n\u001b[0m",
      "\u001b[0;31mAttributeError\u001b[0m: 'Document' object has no attribute 'is_approved'"
     ]
    }
   ],
   "source": [
    "d.is_approved"
   ]
  },
  {
   "cell_type": "code",
   "execution_count": 26,
   "metadata": {},
   "outputs": [],
   "source": [
    "d.meta={'uid': 5}"
   ]
  },
  {
   "cell_type": "code",
   "execution_count": 27,
   "metadata": {},
   "outputs": [],
   "source": [
    "d.save()"
   ]
  },
  {
   "cell_type": "code",
   "execution_count": 20,
   "outputs": [
    {
     "name": "stdout",
     "text": [
      "{'text': 'Провоз охотничьего оружия в самолете. Из Сургута в Питер. Какая процедура?', 'annotations': [['Term', 0, 36], ['Term', 64, 73]]}\n",
      "[{'text': 'Орёл / Есть фото в интернете, которые находятся в общем доступе, может ли клиент скачать и использовать в своей соц. сети или нужно разрешение? Если нужно, как найти? (фотография людей) Если на фотографии, которую скачает клиент, будет подпись фотографа (например в нижнем левом углу), клиент скачает и будет использовать в своей соц. сети, будет ли это нарушением?', 'annotations': [['Term', 132, 142], ['Term', 50, 63], ['Term', 354, 364], ['Term', 236, 253]]}, {'text': 'ФЗ № 209 , ст 18 п 3 ,хочет получить пояснения по данному аспекту . какие организации осуществляют закупку охотничей продукции . они имеют особый оквэд ?', 'annotations': [['Codex', 0, 20], ['Term', 99, 126], ['Term', 146, 151]]}, {'text': 'В начале недели, оставшись одна в закрытой комнате, собака изорвала и изгрызла вещи и одежду моей матери, повредила бытовые приборы. Страховки на данные вещи не оформлялось. Дверной замок, естественно, поврежден не был. В целом во всей квартире никаких повреждений нет, кроме вещей в данной комнате.', 'annotations': [['Term', 133, 142], ['Term', 253, 264]]}, {'text': 'после смерти деда осталось  гладкоствольное огнестрельное ружье 16 калибра. Дед имел все необходимые разрешения, но сейчас документы утеряны. Можно ли восстановить документы на оружие и какие разрешительные документы нужно получить клиенту для хранения и ношения оружия.', 'annotations': [['Term', 28, 74], ['Term', 101, 111], ['Term', 123, 132], ['Term', 151, 173], ['Term', 192, 216], ['Term', 244, 269]]}, {'text': 'Провоз охотничьего оружия в самолете. Из Сургута в Питер. Какая процедура?', 'annotations': [['Term', 0, 36], ['Term', 64, 73]]}]\n"
     ],
     "output_type": "stream"
    }
   ],
   "source": [
    "def get_doc(d):\n",
    "    r = []\n",
    "    for ann in d.seq_annotations.all():\n",
    "        if d.annotations_approved_by is not None:\n",
    "            r.append([str(ann.label), ann.start_offset, ann.end_offset])    \n",
    "    return {'text': d.text, 'annotations': r}\n",
    "\n",
    "def get_docs(project):\n",
    "    docs = []\n",
    "    for d in project.documents.all().filter(annotations_approved_by__isnull=False):\n",
    "        docs.append(get_doc(d))\n",
    "    return docs\n",
    "\n",
    "r = get_doc(d)\n",
    "print(r)\n",
    "exported = get_docs(project)\n",
    "print(exported)\n"
   ],
   "metadata": {
    "collapsed": false,
    "pycharm": {
     "name": "#%%\n",
     "is_executing": false
    }
   }
  },
  {
   "cell_type": "code",
   "execution_count": null,
   "outputs": [],
   "source": [
    "\n"
   ],
   "metadata": {
    "collapsed": false,
    "pycharm": {
     "name": "#%%\n"
    }
   }
  },
  {
   "cell_type": "code",
   "execution_count": 14,
   "outputs": [
    {
     "data": {
      "text/plain": "django.contrib.auth.models.User"
     },
     "metadata": {},
     "output_type": "execute_result",
     "execution_count": 14
    }
   ],
   "source": [
    "d.annotations_approved_by\n",
    "type(d.annotations_approved_by)"
   ],
   "metadata": {
    "collapsed": false,
    "pycharm": {
     "name": "#%%\n",
     "is_executing": false
    }
   }
  },
  {
   "cell_type": "code",
   "execution_count": 21,
   "outputs": [
    {
     "name": "stdout",
     "text": [
      "{'Орёл / Есть фото в интернете, которые находятся в общем доступе, может ли клиент скачать и использовать в своей соц. сети или нужно разрешение? Если нужно, как найти? (фотография людей) Если на фотографии, которую скачает клиент, будет подпись фотографа (например в нижнем левом углу), клиент скачает и будет использовать в своей соц. сети, будет ли это нарушением?', 'после смерти деда осталось  гладкоствольное огнестрельное ружье 16 калибра. Дед имел все необходимые разрешения, но сейчас документы утеряны. Можно ли восстановить документы на оружие и какие разрешительные документы нужно получить клиенту для хранения и ношения оружия.', 'В начале недели, оставшись одна в закрытой комнате, собака изорвала и изгрызла вещи и одежду моей матери, повредила бытовые приборы. Страховки на данные вещи не оформлялось. Дверной замок, естественно, поврежден не был. В целом во всей квартире никаких повреждений нет, кроме вещей в данной комнате.', 'Провоз охотничьего оружия в самолете. Из Сургута в Питер. Какая процедура?', 'ФЗ № 209 , ст 18 п 3 ,хочет получить пояснения по данному аспекту . какие организации осуществляют закупку охотничей продукции . они имеют особый оквэд ?'}\n"
     ],
     "output_type": "stream"
    }
   ],
   "source": [
    "labels = project.labels.all()\n",
    "label_by_name = {str(l):l for l in labels}\n",
    "\n",
    "def add_doc(text, meta, labels):\n",
    "    doc = Document(text=text, meta=meta)\n",
    "    doc.save()\n",
    "    for (label, start, end) in labels:\n",
    "        sa = SequenceAnnotation(start_offset=start, end_offset=end)\n",
    "        sa.label = label_by_name[labels]\n",
    "        sa.save()\n",
    "\n",
    "\n",
    "def existing_docs():\n",
    "    return set(project.documents.all().values_list('text', flat=True))\n",
    "\n",
    "# print(existing_docs())\n",
    "\n",
    "def add_doc_list():\n",
    "    e = existing_docs()\n",
    "    \n",
    "    \n",
    "    "
   ],
   "metadata": {
    "collapsed": false,
    "pycharm": {
     "name": "#%%\n",
     "is_executing": false
    }
   }
  },
  {
   "cell_type": "code",
   "execution_count": 24,
   "outputs": [
    {
     "data": {
      "text/plain": "0"
     },
     "metadata": {},
     "output_type": "execute_result",
     "execution_count": 24
    }
   ],
   "source": [
    "\n",
    "len(project.documents.all().filter(annotations_approved_by__isnull=False))"
   ],
   "metadata": {
    "collapsed": false,
    "pycharm": {
     "name": "#%%\n",
     "is_executing": false
    }
   }
  },
  {
   "cell_type": "code",
   "execution_count": 1,
   "outputs": [],
   "source": [
    "\n",
    "text = 'Названы регионы России с\\xa0самой высокой смертностью от\\xa0рака\\nВице-премьер по социальным вопросам Татьяна Голикова рассказала, в каких регионах России зафиксирована наиболее высокая смертность от рака, сообщает РИА Новости. По словам Голиковой, чаще всего онкологические заболевания становились причиной смерти в Псковской, Тверской, Тульской и Орловской областях, а также в Севастополе. Вице-премьер напомнила, что главные факторы смертности в России — рак и болезни системы кровообращения. В начале года стало известно, что смертность от онкологических заболеваний среди россиян снизилась впервые за три года. По данным Росстата, в 2017 году от рака умерли 289 тысяч человек. Это на 3,5 процента меньше, чем годом ранее.'"
   ],
   "metadata": {
    "collapsed": false,
    "pycharm": {
     "name": "#%%\n",
     "is_executing": false
    }
   }
  },
  {
   "cell_type": "code",
   "execution_count": 8,
   "outputs": [],
   "source": [
    "import spacy\n",
    "nlp = spacy.blank('ru')"
   ],
   "metadata": {
    "collapsed": false,
    "pycharm": {
     "name": "#%%\n",
     "is_executing": false
    }
   }
  },
  {
   "cell_type": "code",
   "execution_count": 10,
   "outputs": [],
   "source": [
    "doc = nlp.tokenizer(text)"
   ],
   "metadata": {
    "collapsed": false,
    "pycharm": {
     "name": "#%%\n",
     "is_executing": false
    }
   }
  },
  {
   "cell_type": "code",
   "execution_count": 25,
   "outputs": [
    {
     "data": {
      "text/plain": "\"'Названы регионы'\""
     },
     "metadata": {},
     "output_type": "display_data"
    },
    {
     "data": {
      "text/plain": "0"
     },
     "metadata": {},
     "output_type": "display_data"
    },
    {
     "data": {
      "text/plain": "8"
     },
     "metadata": {},
     "output_type": "display_data"
    },
    {
     "data": {
      "text/plain": "16"
     },
     "metadata": {},
     "output_type": "display_data"
    },
    {
     "data": {
      "text/plain": "'Названы '"
     },
     "metadata": {},
     "output_type": "display_data"
    },
    {
     "data": {
      "text/plain": "'регионы '"
     },
     "metadata": {},
     "output_type": "display_data"
    }
   ],
   "source": [
    "display(f\"'{doc[0]} {doc[1]}'\",\n",
    "        doc[0].idx,\n",
    "        doc[1].idx,\n",
    "        doc[2].idx,\n",
    "        text[0:8],\n",
    "        text[8:16]\n",
    ")"
   ],
   "metadata": {
    "collapsed": false,
    "pycharm": {
     "name": "#%%\n",
     "is_executing": false
    }
   }
  },
  {
   "cell_type": "code",
   "execution_count": 17,
   "outputs": [
    {
     "data": {
      "text/plain": "Названы регионы России с самой высокой смертностью от рака\nВице-премьер по социальным вопросам Татьяна Голикова рассказала, в каких регионах России зафиксирована наиболее высокая смертность от рака, сообщает РИА Новости. По словам Голиковой, чаще всего онкологические заболевания становились причиной смерти в Псковской, Тверской, Тульской и Орловской областях, а также в Севастополе. Вице-премьер напомнила, что главные факторы смертности в России — рак и болезни системы кровообращения. В начале года стало известно, что смертность от онкологических заболеваний среди россиян снизилась впервые за три года. По данным Росстата, в 2017 году от рака умерли 289 тысяч человек. Это на 3,5 процента меньше, чем годом ранее."
     },
     "metadata": {},
     "output_type": "execute_result",
     "execution_count": 17
    }
   ],
   "source": [
    "doc"
   ],
   "metadata": {
    "collapsed": false,
    "pycharm": {
     "name": "#%%\n",
     "is_executing": false
    }
   }
  },
  {
   "cell_type": "code",
   "execution_count": 14,
   "outputs": [],
   "source": [],
   "metadata": {
    "collapsed": false,
    "pycharm": {
     "name": "#%%\n",
     "is_executing": false
    }
   }
  },
  {
   "cell_type": "code",
   "execution_count": 14,
   "outputs": [],
   "source": [],
   "metadata": {
    "collapsed": false,
    "pycharm": {
     "name": "#%%\n",
     "is_executing": false
    }
   }
  },
  {
   "cell_type": "code",
   "execution_count": 14,
   "outputs": [],
   "source": [],
   "metadata": {
    "collapsed": false,
    "pycharm": {
     "name": "#%%\n",
     "is_executing": false
    }
   }
  },
  {
   "cell_type": "code",
   "execution_count": 14,
   "outputs": [],
   "source": [],
   "metadata": {
    "collapsed": false,
    "pycharm": {
     "name": "#%%\n",
     "is_executing": false
    }
   }
  },
  {
   "cell_type": "code",
   "execution_count": 14,
   "outputs": [],
   "source": [],
   "metadata": {
    "collapsed": false,
    "pycharm": {
     "name": "#%%\n",
     "is_executing": false
    }
   }
  },
  {
   "cell_type": "code",
   "execution_count": null,
   "outputs": [],
   "source": [
    "\n"
   ],
   "metadata": {
    "collapsed": false,
    "pycharm": {
     "name": "#%%\n"
    }
   }
  }
 ],
 "metadata": {
  "kernelspec": {
   "display_name": "Python 3",
   "language": "python",
   "name": "python3"
  },
  "language_info": {
   "codemirror_mode": {
    "name": "ipython",
    "version": 3
   },
   "file_extension": ".py",
   "mimetype": "text/x-python",
   "name": "python",
   "nbconvert_exporter": "python",
   "pygments_lexer": "ipython3",
   "version": "3.6.9"
  },
  "pycharm": {
   "stem_cell": {
    "cell_type": "raw",
    "source": [],
    "metadata": {
     "collapsed": false
    }
   }
  }
 },
 "nbformat": 4,
 "nbformat_minor": 4
}